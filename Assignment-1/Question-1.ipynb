{
 "cells": [
  {
   "cell_type": "markdown",
   "id": "01c9507f-25ce-4c63-8c73-d3493e7982a3",
   "metadata": {},
   "source": [
    "MovieLens 1M Dataset GroupLens Research provides a number of collections of movie ratings data collected from users of MovieLens in the late 1990s and early 2000s. The data provide movie ratings, movie metadata (genres and year), and demographic data about the users (age, zip code, gender identification, and occupation). Such data is often of interest in the development of recommendation systems based on machine learning algorithms. While we do not explore machine learning techniques in detail in this book, I will show you how to slice and dice datasets like these into the exact form you need. The MovieLens 1M dataset contains 1 million ratings collected from 6,000 users on 4,000 movies. It’s spread across three tables: ratings, user information, and movie information. After extracting the data from the ZIP file, we can load each table into a pandas DataFrame object using pandas.read_table and perform the following task."
   ]
  },
  {
   "cell_type": "code",
   "execution_count": 1,
   "id": "50daf4df-9f53-485a-83dc-e23cb22b249e",
   "metadata": {},
   "outputs": [],
   "source": [
    "import pandas as pd\n",
    "import numpy as np\n",
    "import os\n",
    "import sys\n",
    "import matplotlib.pyplot as plt\n",
    "import seaborn as sns\n",
    "import warnings\n",
    "warnings.simplefilter(\"ignore\")"
   ]
  },
  {
   "cell_type": "markdown",
   "id": "9028a11b-5116-4eac-84d1-78d8d3ca7a7e",
   "metadata": {},
   "source": [
    "# 1. Perform null values identification in the given dataset."
   ]
  },
  {
   "cell_type": "markdown",
   "id": "83232c44-f93e-44be-8651-893e74b9f600",
   "metadata": {},
   "source": [
    "## For 'ratings.dat'"
   ]
  },
  {
   "cell_type": "code",
   "execution_count": 2,
   "id": "ef004ac8-d349-4d71-92a7-6e9798725acb",
   "metadata": {},
   "outputs": [],
   "source": [
    "ratings = pd.read_table('D:/Sahil/data/ratings.dat', sep='::', header=None, names=['user_id', 'movie_id',\n",
    "                                                                                   'rating', 'timestamp'])"
   ]
  },
  {
   "cell_type": "code",
   "execution_count": 3,
   "id": "068aedd3-f56e-438d-ad26-d9a30b8fa755",
   "metadata": {},
   "outputs": [
    {
     "name": "stdout",
     "output_type": "stream",
     "text": [
      "user_id      0\n",
      "movie_id     0\n",
      "rating       0\n",
      "timestamp    0\n",
      "dtype: int64\n"
     ]
    }
   ],
   "source": [
    "print(ratings.isnull().sum())"
   ]
  },
  {
   "cell_type": "markdown",
   "id": "c1a7a783-52c1-4f94-9abc-e9d6544cbd8b",
   "metadata": {},
   "source": [
    "## For 'users.dat'"
   ]
  },
  {
   "cell_type": "code",
   "execution_count": 4,
   "id": "6469a32d-f696-46f0-8289-f227cdad7423",
   "metadata": {},
   "outputs": [],
   "source": [
    "users = pd.read_table('D:/Sahil/data/users.dat', sep='::', header=None, names=['user_id', 'gender', 'age',\n",
    "                                                                               'occupation', 'zip_code'])"
   ]
  },
  {
   "cell_type": "code",
   "execution_count": 5,
   "id": "7e125470-70a3-4457-a834-57d72d0897a8",
   "metadata": {},
   "outputs": [
    {
     "name": "stdout",
     "output_type": "stream",
     "text": [
      "user_id       0\n",
      "gender        0\n",
      "age           0\n",
      "occupation    0\n",
      "zip_code      0\n",
      "dtype: int64\n"
     ]
    }
   ],
   "source": [
    "print(users.isnull().sum())"
   ]
  },
  {
   "cell_type": "markdown",
   "id": "8d4cadba-d96b-43df-accf-0fe09d62b6a0",
   "metadata": {},
   "source": [
    "## For 'movies.dat'"
   ]
  },
  {
   "cell_type": "code",
   "execution_count": 6,
   "id": "2d7d5363-1e8e-4889-bc9c-f60deba662b3",
   "metadata": {},
   "outputs": [],
   "source": [
    "movies = pd.read_table('D:/Sahil/data/movies.dat', sep='::', header=None, names=['movie_id', 'title', 'genres'],\n",
    "                       encoding='latin1')"
   ]
  },
  {
   "cell_type": "code",
   "execution_count": 7,
   "id": "8782e9fa-4050-42bc-83bf-68985c5dace9",
   "metadata": {},
   "outputs": [
    {
     "name": "stdout",
     "output_type": "stream",
     "text": [
      "movie_id    0\n",
      "title       0\n",
      "genres      0\n",
      "dtype: int64\n"
     ]
    }
   ],
   "source": [
    "print(movies.isnull().sum())"
   ]
  },
  {
   "cell_type": "markdown",
   "id": "5b8c8afe-e57c-4852-b69f-8d5bfaae7ff4",
   "metadata": {},
   "source": [
    "# 2. Identify types of attributes in the dataset."
   ]
  },
  {
   "cell_type": "markdown",
   "id": "bde777ad-ec29-4e47-b1a9-b5184458d7b2",
   "metadata": {},
   "source": [
    "## For 'ratings.dat'"
   ]
  },
  {
   "cell_type": "code",
   "execution_count": 8,
   "id": "a5aa47e6-df19-4581-9430-d758a9e3a1ea",
   "metadata": {},
   "outputs": [],
   "source": [
    "ratings = pd.read_table('D:/Sahil/data/ratings.dat', sep='::', header=None, names=['user_id', 'movie_id', \n",
    "                                                                                   'rating', 'timestamp'])"
   ]
  },
  {
   "cell_type": "code",
   "execution_count": 9,
   "id": "574fe114-dbd3-49f2-a6da-d1370bd1a84b",
   "metadata": {},
   "outputs": [
    {
     "name": "stdout",
     "output_type": "stream",
     "text": [
      "user_id      int64\n",
      "movie_id     int64\n",
      "rating       int64\n",
      "timestamp    int64\n",
      "dtype: object\n"
     ]
    }
   ],
   "source": [
    "print(ratings.dtypes)"
   ]
  },
  {
   "cell_type": "markdown",
   "id": "c6e1b90d-67bf-46d2-bcf6-6a91b3347854",
   "metadata": {},
   "source": [
    "## For 'users.dat'"
   ]
  },
  {
   "cell_type": "code",
   "execution_count": 10,
   "id": "cf4e8c15-347a-47a3-9bf6-53ab33768f9a",
   "metadata": {},
   "outputs": [],
   "source": [
    "users = pd.read_table('D:/Sahil/data/users.dat', sep='::', header=None, names=['user_id', 'gender', \n",
    "                                                                               'age', 'occupation', 'zip_code'])"
   ]
  },
  {
   "cell_type": "code",
   "execution_count": 11,
   "id": "a687e324-b16e-45a7-a9d3-b22345c4a111",
   "metadata": {},
   "outputs": [
    {
     "name": "stdout",
     "output_type": "stream",
     "text": [
      "user_id        int64\n",
      "gender        object\n",
      "age            int64\n",
      "occupation     int64\n",
      "zip_code      object\n",
      "dtype: object\n"
     ]
    }
   ],
   "source": [
    "print(users.dtypes)"
   ]
  },
  {
   "cell_type": "markdown",
   "id": "df95ca64-a96c-4a7a-9a2a-fdc80ed17faf",
   "metadata": {},
   "source": [
    "## For 'movies.dat'"
   ]
  },
  {
   "cell_type": "code",
   "execution_count": 12,
   "id": "0d9fa38b-a6a8-47f8-ba61-82f24d9a8f88",
   "metadata": {},
   "outputs": [],
   "source": [
    "movies = pd.read_table('D:/Sahil/data/movies.dat', sep='::', header=None, names=['movie_id', 'title', 'genres']\n",
    "                       , encoding='latin1')"
   ]
  },
  {
   "cell_type": "code",
   "execution_count": 13,
   "id": "9d6e1955-82ac-45e7-9d05-3aae85bd35e7",
   "metadata": {},
   "outputs": [
    {
     "name": "stdout",
     "output_type": "stream",
     "text": [
      "movie_id     int64\n",
      "title       object\n",
      "genres      object\n",
      "dtype: object\n"
     ]
    }
   ],
   "source": [
    "print(movies.dtypes)"
   ]
  },
  {
   "cell_type": "markdown",
   "id": "5f3a192d-906d-4068-8e7e-ddf2605a5115",
   "metadata": {},
   "source": [
    "# 3. Plot Box plot and violin plot. (also state the inference of each attribute and also find the outlier in the attribute)"
   ]
  },
  {
   "cell_type": "code",
   "execution_count": 14,
   "id": "0b359c41-1c7b-4e3b-bc88-21a16a498b49",
   "metadata": {},
   "outputs": [
    {
     "data": {
      "image/png": "[encoded data removed]",
      "text/plain": [
       "<Figure size 432x288 with 1 Axes>"
      ]
     },
     "metadata": {
      "needs_background": "light"
     },
     "output_type": "display_data"
    }
   ],
   "source": [
    "sns.boxplot(x=ratings['rating'])\n",
    "plt.title('Box Plot of Movie Ratings')\n",
    "plt.xlabel('Rating')\n",
    "plt.show()"
   ]
  },
  {
   "cell_type": "code",
   "execution_count": 15,
   "id": "2743f54c-edd0-4d29-8bac-f54c17e85c00",
   "metadata": {},
   "outputs": [
    {
     "data": {
      "image/png": "[encoded data removed]",
      "text/plain": [
       "<Figure size 432x288 with 1 Axes>"
      ]
     },
     "metadata": {
      "needs_background": "light"
     },
     "output_type": "display_data"
    }
   ],
   "source": [
    "sns.violinplot(x=ratings['rating'])\n",
    "plt.title('Violin Plot of Movie Ratings')\n",
    "plt.xlabel('Rating')\n",
    "plt.show()"
   ]
  },
  {
   "cell_type": "markdown",
   "id": "66f0959c-ddb6-4949-af0e-843ddac36644",
   "metadata": {},
   "source": [
    "## Calculation of the quartiles of the rating column"
   ]
  },
  {
   "cell_type": "code",
   "execution_count": 16,
   "id": "2afbd5f0-efcd-40b9-9db9-f1d7de881d3a",
   "metadata": {},
   "outputs": [],
   "source": [
    "q1 = ratings['rating'].quantile(0.25)\n",
    "q3 = ratings['rating'].quantile(0.75)"
   ]
  },
  {
   "cell_type": "code",
   "execution_count": 17,
   "id": "45e5630b-3615-458f-9a30-1235b586b851",
   "metadata": {},
   "outputs": [],
   "source": [
    "iqr = q3 - q1"
   ]
  },
  {
   "cell_type": "code",
   "execution_count": 18,
   "id": "cb32e87d-5a43-4cb8-a769-ffe887363c1c",
   "metadata": {},
   "outputs": [],
   "source": [
    "lower_bound = q1 - 1.5 * iqr\n",
    "upper_bound = q3 + 1.5 * iqr"
   ]
  },
  {
   "cell_type": "code",
   "execution_count": 19,
   "id": "c29cc834-94ac-4ea9-a441-899dc1fff932",
   "metadata": {},
   "outputs": [],
   "source": [
    "outliers = ratings[(ratings['rating'] < lower_bound) | (ratings['rating'] > upper_bound)]"
   ]
  },
  {
   "cell_type": "code",
   "execution_count": 20,
   "id": "35fcd6ba-40ef-47a5-a27e-7684de6b04dd",
   "metadata": {},
   "outputs": [
    {
     "name": "stdout",
     "output_type": "stream",
     "text": [
      "Number of outliers: 56174\n"
     ]
    }
   ],
   "source": [
    "print(f\"Number of outliers: {len(outliers)}\")"
   ]
  },
  {
   "cell_type": "code",
   "execution_count": 21,
   "id": "70c3e235-3d62-4840-9038-09d39a008c10",
   "metadata": {},
   "outputs": [
    {
     "name": "stdout",
     "output_type": "stream",
     "text": [
      "         user_id  movie_id  rating  timestamp\n",
      "148            2        21       1  978299839\n",
      "180            2      3893       1  978299535\n",
      "205            3      1261       1  978297663\n",
      "249            4      3527       1  978294008\n",
      "268            5      2916       1  978245645\n",
      "...          ...       ...     ...        ...\n",
      "1000171     6040      3388       1  956716407\n",
      "1000177     6040      2751       1  956716438\n",
      "1000185     6040      2794       1  956716438\n",
      "1000187     6040      2003       1  956716294\n",
      "1000204     6040      1091       1  956716541\n",
      "\n",
      "[56174 rows x 4 columns]\n"
     ]
    }
   ],
   "source": [
    "print(outliers)"
   ]
  },
  {
   "cell_type": "markdown",
   "id": "299f3434-c5b7-43d2-bc62-0c551a49b6d1",
   "metadata": {},
   "source": [
    "# Histogram and identification of overlapping.(also state the inference for each attribute.)"
   ]
  },
  {
   "cell_type": "code",
   "execution_count": 22,
   "id": "0489a067-2db7-48ad-be25-a78674d4cbee",
   "metadata": {},
   "outputs": [
    {
     "data": {
      "image/png": "[encoded data removed]",
      "text/plain": [
       "<Figure size 432x288 with 1 Axes>"
      ]
     },
     "metadata": {
      "needs_background": "light"
     },
     "output_type": "display_data"
    }
   ],
   "source": [
    "plt.hist(users['age'], bins=20)\n",
    "plt.title('Histogram of User Ages')\n",
    "plt.xlabel('Age')\n",
    "plt.ylabel('Frequency')\n",
    "plt.show()"
   ]
  },
  {
   "cell_type": "code",
   "execution_count": 23,
   "id": "41dbbe30-e530-4be6-a05a-c21a5902cd11",
   "metadata": {},
   "outputs": [
    {
     "data": {
      "image/png": "[encoded data removed]",
      "text/plain": [
       "<Figure size 432x288 with 1 Axes>"
      ]
     },
     "metadata": {
      "needs_background": "light"
     },
     "output_type": "display_data"
    }
   ],
   "source": [
    "plt.hist(ratings['rating'], bins=10)\n",
    "plt.title('Histogram of Movie Ratings')\n",
    "plt.xlabel('Rating')\n",
    "plt.ylabel('Frequency')\n",
    "plt.show()"
   ]
  },
  {
   "cell_type": "code",
   "execution_count": 24,
   "id": "cb0088c1-e084-4983-98ea-2e4203b2ca7e",
   "metadata": {},
   "outputs": [],
   "source": [
    "merged_df = pd.merge(ratings, users, on='user_id')"
   ]
  },
  {
   "cell_type": "code",
   "execution_count": 25,
   "id": "142e7085-a078-4e6c-b0eb-a1840594ac75",
   "metadata": {},
   "outputs": [
    {
     "data": {
      "image/png": "[encoded data removed]",
      "text/plain": [
       "<Figure size 432x288 with 1 Axes>"
      ]
     },
     "metadata": {
      "needs_background": "light"
     },
     "output_type": "display_data"
    }
   ],
   "source": [
    "sns.scatterplot(x='age', y='rating', data=merged_df)\n",
    "plt.title('Scatter Plot of User Age vs. Movie Rating')\n",
    "plt.xlabel('User Age')\n",
    "plt.ylabel('Movie Rating')\n",
    "plt.show()"
   ]
  },
  {
   "cell_type": "markdown",
   "id": "c2862225-1078-4b2d-9098-69581122855d",
   "metadata": {},
   "source": [
    "# 5. Draw different types of scatter plot.(using seaborn library) "
   ]
  },
  {
   "cell_type": "code",
   "execution_count": 26,
   "id": "d07571cb-173b-4456-8b4f-b0ea7d78f8e9",
   "metadata": {},
   "outputs": [],
   "source": [
    "merged_df = pd.merge(ratings, users, on='user_id')"
   ]
  },
  {
   "cell_type": "code",
   "execution_count": 27,
   "id": "78cf59b0-f2c8-40c9-8014-a03b93ddc00a",
   "metadata": {},
   "outputs": [
    {
     "data": {
      "image/png": "[encoded data removed]",
      "text/plain": [
       "<Figure size 432x288 with 1 Axes>"
      ]
     },
     "metadata": {
      "needs_background": "light"
     },
     "output_type": "display_data"
    }
   ],
   "source": [
    "sns.scatterplot(x='age', y='rating', data=merged_df)\n",
    "plt.show()"
   ]
  },
  {
   "cell_type": "markdown",
   "id": "1db383db-9ed0-45a7-9149-b54135951965",
   "metadata": {},
   "source": [
    "# 6. Univariate and multivariate analysis"
   ]
  },
  {
   "cell_type": "markdown",
   "id": "3458ea01-36a8-4f66-8f18-bee9fe688607",
   "metadata": {},
   "source": [
    "## Univariate Analysis"
   ]
  },
  {
   "cell_type": "code",
   "execution_count": 28,
   "id": "790c6285-3f03-4c8f-b1f3-370aa7675482",
   "metadata": {},
   "outputs": [
    {
     "data": {
      "text/plain": [
       "<AxesSubplot:xlabel='rating', ylabel='Count'>"
      ]
     },
     "execution_count": 28,
     "metadata": {},
     "output_type": "execute_result"
    },
    {
     "data": {
      "image/png": "[encoded data removed]",
      "text/plain": [
       "<Figure size 432x288 with 1 Axes>"
      ]
     },
     "metadata": {
      "needs_background": "light"
     },
     "output_type": "display_data"
    }
   ],
   "source": [
    "sns.histplot(data=ratings, x='rating', kde=True)"
   ]
  },
  {
   "cell_type": "markdown",
   "id": "5ae655f8-2e82-4851-a56d-e280ed2ab5b5",
   "metadata": {},
   "source": [
    "## Multivariate Analysis"
   ]
  },
  {
   "cell_type": "code",
   "execution_count": 29,
   "id": "354c0c83-1d14-4e15-ac5a-0b323d39fe34",
   "metadata": {},
   "outputs": [],
   "source": [
    "data = pd.merge(ratings, users, on='user_id')"
   ]
  },
  {
   "cell_type": "code",
   "execution_count": 30,
   "id": "f5e8872f-5a25-4b71-9b1b-051da11e544c",
   "metadata": {},
   "outputs": [
    {
     "data": {
      "text/plain": [
       "<AxesSubplot:xlabel='age', ylabel='rating'>"
      ]
     },
     "execution_count": 30,
     "metadata": {},
     "output_type": "execute_result"
    },
    {
     "data": {
      "image/png": "[encoded data removed]",
      "text/plain": [
       "<Figure size 432x288 with 1 Axes>"
      ]
     },
     "metadata": {
      "needs_background": "light"
     },
     "output_type": "display_data"
    }
   ],
   "source": [
    "sns.scatterplot(data=data, x='age', y='rating')"
   ]
  },
  {
   "cell_type": "code",
   "execution_count": null,
   "id": "8fc5e1b3",
   "metadata": {},
   "outputs": [],
   "source": []
  }
 ],
 "metadata": {
  "kernelspec": {
   "display_name": "Python 3 (ipykernel)",
   "language": "python",
   "name": "python3"
  },
  "language_info": {
   "codemirror_mode": {
    "name": "ipython",
    "version": 3
   },
   "file_extension": ".py",
   "mimetype": "text/x-python",
   "name": "python",
   "nbconvert_exporter": "python",
   "pygments_lexer": "ipython3",
   "version": "3.10.5"
  }
 },
 "nbformat": 4,
 "nbformat_minor": 5
}
